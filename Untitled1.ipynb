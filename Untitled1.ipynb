{
 "cells": [
  {
   "cell_type": "code",
   "execution_count": 1,
   "metadata": {},
   "outputs": [],
   "source": [
    "import pickle"
   ]
  },
  {
   "cell_type": "code",
   "execution_count": 6,
   "metadata": {},
   "outputs": [
    {
     "name": "stdin",
     "output_type": "stream",
     "text": [
      "Enter living area in square feet meters:  150\n",
      "Enter number of bedrooms:  4\n",
      "Enter number of bedrooms:  2\n",
      "Is it a new construction?  Patraix\n"
     ]
    },
    {
     "name": "stdout",
     "output_type": "stream",
     "text": [
      "Sorry I didn't understand\n"
     ]
    },
    {
     "name": "stdin",
     "output_type": "stream",
     "text": [
      "Is it a new construction?  no\n"
     ]
    },
    {
     "name": "stdout",
     "output_type": "stream",
     "text": [
      "[\"L'Olivereta\", 'Patraix', 'Rascanya', 'La Saïdia', 'Poblats Marítims', 'Jesús', 'Camins al Grau', 'Benicalap', 'Quatre Carreres', 'Algirós', 'Pobles del Sud', \"Pobles de l'Oest\", 'Campanar', 'Extramurs', 'El Pla del Real', \"L'Eixample\", 'Benimaclet', 'Ciutat Vella', 'Pobles del Nord', 'None', 'Capital)']\n",
      "\n",
      "Choose a district from the list above.\n",
      "\n"
     ]
    },
    {
     "name": "stdin",
     "output_type": "stream",
     "text": [
      " Patraix\n"
     ]
    },
    {
     "name": "stdout",
     "output_type": "stream",
     "text": [
      "['Soternes ', 'Sant Isidre ', 'Orriols ', 'Sant Antoni ', 'El Cabanyal-El Canyamelar ', 'Torrefiel ', 'La Raiosa ', 'La Creu del Grau ', 'Nou Moles ', 'Benicalap ', 'En Corts ', 'Ciutat Jardí ', 'Tormos ', 'Sant Marcel·lí ', 'Albors ', 'Aiora ', 'Fonteta de Sant Lluís ', 'El Perellonet ', 'Ciutat Fallera ', 'La Malva-rosa ', 'Benimàmet ', 'Les Tendetes ', 'Malilla ', \"El Forn d'Alcedo \", 'Arrancapins ', 'Ciutat Universitària ', 'Favara ', 'Russafa ', 'Benimaclet ', 'La Punta ', 'Sant Llorenç ', 'Beteró ', 'La Fontsanta ', 'La Petxina ', \"El Castellar-L'Oliveral \", 'Na Rovella ', \"L'Hort de Senabre \", 'Tres Forques ', 'Montolivet ', 'Campanar ', 'Patraix ', 'Natzaret ', 'Beniferri ', 'La Xerea ', 'Faitanar ', 'La Torre ', 'La Seu ', 'El Grau ', 'Gran Via ', 'El Botànic ', 'Marxalenes ', 'Camí Real ', 'El Saler ', 'Benifaraig ', 'La Creu Coberta ', 'Ciutat de les Arts i de les Ciències ', 'El Calvari ', 'Sant Francesc ', \"L'Amistat \", 'Vara de Quart ', 'El Carme ', 'Trinitat ', 'La Llum ', 'Massarrojos ', 'Morvedre ', 'Sant Pau ', 'Mestalla ', 'Safranar ', \"L'Illa Perduda \", 'Penya-roja ', 'Borbotó ', 'El Palmar ', 'Camí de Vera ', 'Cases de Bàrcena ', 'La Roqueta ', 'El Mercat ', 'Poble Nou ', 'El Pilar ', 'El Pla del Remei ', 'Carpesa ', 'Mauella ', 'La Bega Baixa ', 'Exposició ', 'Pinedo ', 'Camí Fondo ', 'La Carrasca ', \"L'Olivereta \", \"L'Eixample \", 'Jaume Roig ']\n",
      "\n",
      "Choose a neighbourhood from the list above, if your neighbourhood is not in the list, we can't help you sorry.\n",
      "\n"
     ]
    },
    {
     "name": "stdin",
     "output_type": "stream",
     "text": [
      " Favara\n"
     ]
    },
    {
     "ename": "ValueError",
     "evalue": "Found array with dim 3. Estimator expected <= 2.",
     "output_type": "error",
     "traceback": [
      "\u001b[1;31m---------------------------------------------------------------------------\u001b[0m",
      "\u001b[1;31mValueError\u001b[0m                                Traceback (most recent call last)",
      "\u001b[1;32m<ipython-input-6-008c76eb98db>\u001b[0m in \u001b[0;36m<module>\u001b[1;34m\u001b[0m\n\u001b[0;32m    158\u001b[0m \u001b[0minfile\u001b[0m\u001b[1;33m.\u001b[0m\u001b[0mclose\u001b[0m\u001b[1;33m(\u001b[0m\u001b[1;33m)\u001b[0m\u001b[1;33m\u001b[0m\u001b[1;33m\u001b[0m\u001b[0m\n\u001b[0;32m    159\u001b[0m \u001b[1;33m\u001b[0m\u001b[0m\n\u001b[1;32m--> 160\u001b[1;33m \u001b[0mprice\u001b[0m \u001b[1;33m=\u001b[0m \u001b[0mmodel\u001b[0m\u001b[1;33m.\u001b[0m\u001b[0mpredict\u001b[0m\u001b[1;33m(\u001b[0m\u001b[1;33m[\u001b[0m\u001b[0muser_X\u001b[0m\u001b[1;33m]\u001b[0m\u001b[1;33m)\u001b[0m\u001b[1;33m\u001b[0m\u001b[1;33m\u001b[0m\u001b[0m\n\u001b[0m",
      "\u001b[1;32m~\\anaconda3\\lib\\site-packages\\sklearn\\cluster\\_kmeans.py\u001b[0m in \u001b[0;36mpredict\u001b[1;34m(self, X, sample_weight)\u001b[0m\n\u001b[0;32m   1199\u001b[0m         \u001b[0mcheck_is_fitted\u001b[0m\u001b[1;33m(\u001b[0m\u001b[0mself\u001b[0m\u001b[1;33m)\u001b[0m\u001b[1;33m\u001b[0m\u001b[1;33m\u001b[0m\u001b[0m\n\u001b[0;32m   1200\u001b[0m \u001b[1;33m\u001b[0m\u001b[0m\n\u001b[1;32m-> 1201\u001b[1;33m         \u001b[0mX\u001b[0m \u001b[1;33m=\u001b[0m \u001b[0mself\u001b[0m\u001b[1;33m.\u001b[0m\u001b[0m_check_test_data\u001b[0m\u001b[1;33m(\u001b[0m\u001b[0mX\u001b[0m\u001b[1;33m)\u001b[0m\u001b[1;33m\u001b[0m\u001b[1;33m\u001b[0m\u001b[0m\n\u001b[0m\u001b[0;32m   1202\u001b[0m         \u001b[0mx_squared_norms\u001b[0m \u001b[1;33m=\u001b[0m \u001b[0mrow_norms\u001b[0m\u001b[1;33m(\u001b[0m\u001b[0mX\u001b[0m\u001b[1;33m,\u001b[0m \u001b[0msquared\u001b[0m\u001b[1;33m=\u001b[0m\u001b[1;32mTrue\u001b[0m\u001b[1;33m)\u001b[0m\u001b[1;33m\u001b[0m\u001b[1;33m\u001b[0m\u001b[0m\n\u001b[0;32m   1203\u001b[0m \u001b[1;33m\u001b[0m\u001b[0m\n",
      "\u001b[1;32m~\\anaconda3\\lib\\site-packages\\sklearn\\cluster\\_kmeans.py\u001b[0m in \u001b[0;36m_check_test_data\u001b[1;34m(self, X)\u001b[0m\n\u001b[0;32m    991\u001b[0m \u001b[1;33m\u001b[0m\u001b[0m\n\u001b[0;32m    992\u001b[0m     \u001b[1;32mdef\u001b[0m \u001b[0m_check_test_data\u001b[0m\u001b[1;33m(\u001b[0m\u001b[0mself\u001b[0m\u001b[1;33m,\u001b[0m \u001b[0mX\u001b[0m\u001b[1;33m)\u001b[0m\u001b[1;33m:\u001b[0m\u001b[1;33m\u001b[0m\u001b[1;33m\u001b[0m\u001b[0m\n\u001b[1;32m--> 993\u001b[1;33m         X = check_array(X, accept_sparse='csr', dtype=[np.float64, np.float32],\n\u001b[0m\u001b[0;32m    994\u001b[0m                         order='C', accept_large_sparse=False)\n\u001b[0;32m    995\u001b[0m         \u001b[0mn_samples\u001b[0m\u001b[1;33m,\u001b[0m \u001b[0mn_features\u001b[0m \u001b[1;33m=\u001b[0m \u001b[0mX\u001b[0m\u001b[1;33m.\u001b[0m\u001b[0mshape\u001b[0m\u001b[1;33m\u001b[0m\u001b[1;33m\u001b[0m\u001b[0m\n",
      "\u001b[1;32m~\\anaconda3\\lib\\site-packages\\sklearn\\utils\\validation.py\u001b[0m in \u001b[0;36minner_f\u001b[1;34m(*args, **kwargs)\u001b[0m\n\u001b[0;32m     70\u001b[0m                           FutureWarning)\n\u001b[0;32m     71\u001b[0m         \u001b[0mkwargs\u001b[0m\u001b[1;33m.\u001b[0m\u001b[0mupdate\u001b[0m\u001b[1;33m(\u001b[0m\u001b[1;33m{\u001b[0m\u001b[0mk\u001b[0m\u001b[1;33m:\u001b[0m \u001b[0marg\u001b[0m \u001b[1;32mfor\u001b[0m \u001b[0mk\u001b[0m\u001b[1;33m,\u001b[0m \u001b[0marg\u001b[0m \u001b[1;32min\u001b[0m \u001b[0mzip\u001b[0m\u001b[1;33m(\u001b[0m\u001b[0msig\u001b[0m\u001b[1;33m.\u001b[0m\u001b[0mparameters\u001b[0m\u001b[1;33m,\u001b[0m \u001b[0margs\u001b[0m\u001b[1;33m)\u001b[0m\u001b[1;33m}\u001b[0m\u001b[1;33m)\u001b[0m\u001b[1;33m\u001b[0m\u001b[1;33m\u001b[0m\u001b[0m\n\u001b[1;32m---> 72\u001b[1;33m         \u001b[1;32mreturn\u001b[0m \u001b[0mf\u001b[0m\u001b[1;33m(\u001b[0m\u001b[1;33m**\u001b[0m\u001b[0mkwargs\u001b[0m\u001b[1;33m)\u001b[0m\u001b[1;33m\u001b[0m\u001b[1;33m\u001b[0m\u001b[0m\n\u001b[0m\u001b[0;32m     73\u001b[0m     \u001b[1;32mreturn\u001b[0m \u001b[0minner_f\u001b[0m\u001b[1;33m\u001b[0m\u001b[1;33m\u001b[0m\u001b[0m\n\u001b[0;32m     74\u001b[0m \u001b[1;33m\u001b[0m\u001b[0m\n",
      "\u001b[1;32m~\\anaconda3\\lib\\site-packages\\sklearn\\utils\\validation.py\u001b[0m in \u001b[0;36mcheck_array\u001b[1;34m(array, accept_sparse, accept_large_sparse, dtype, order, copy, force_all_finite, ensure_2d, allow_nd, ensure_min_samples, ensure_min_features, estimator)\u001b[0m\n\u001b[0;32m    638\u001b[0m             \u001b[0marray\u001b[0m \u001b[1;33m=\u001b[0m \u001b[0marray\u001b[0m\u001b[1;33m.\u001b[0m\u001b[0mastype\u001b[0m\u001b[1;33m(\u001b[0m\u001b[0mnp\u001b[0m\u001b[1;33m.\u001b[0m\u001b[0mfloat64\u001b[0m\u001b[1;33m)\u001b[0m\u001b[1;33m\u001b[0m\u001b[1;33m\u001b[0m\u001b[0m\n\u001b[0;32m    639\u001b[0m         \u001b[1;32mif\u001b[0m \u001b[1;32mnot\u001b[0m \u001b[0mallow_nd\u001b[0m \u001b[1;32mand\u001b[0m \u001b[0marray\u001b[0m\u001b[1;33m.\u001b[0m\u001b[0mndim\u001b[0m \u001b[1;33m>=\u001b[0m \u001b[1;36m3\u001b[0m\u001b[1;33m:\u001b[0m\u001b[1;33m\u001b[0m\u001b[1;33m\u001b[0m\u001b[0m\n\u001b[1;32m--> 640\u001b[1;33m             raise ValueError(\"Found array with dim %d. %s expected <= 2.\"\n\u001b[0m\u001b[0;32m    641\u001b[0m                              % (array.ndim, estimator_name))\n\u001b[0;32m    642\u001b[0m \u001b[1;33m\u001b[0m\u001b[0m\n",
      "\u001b[1;31mValueError\u001b[0m: Found array with dim 3. Estimator expected <= 2."
     ]
    }
   ],
   "source": [
    "from geopy.geocoders import Nominatim\n",
    "import pandas as pd\n",
    "import pickle\n",
    "\n",
    "data = pd.read_csv('../Scrape Idealista/data_formodel.csv')\n",
    "\n",
    "\n",
    "# Sqft\n",
    "sqft_loop = False\n",
    "while sqft_loop == False:\n",
    "    try:\n",
    "        sqft1 = int(input(\"Enter living area in square feet meters: \"))\n",
    "        sqft = sqft1\n",
    "        sqft_loop = True\n",
    "    except:\n",
    "        print(\"Sorry, the value you entered is not recognized, try again please.\")\n",
    "#Bedrooms      \n",
    "bed_loop = False\n",
    "while bed_loop == False:\n",
    "    try:\n",
    "        bed1 = int(input(\"Enter number of bedrooms: \"))\n",
    "        bedrooms = bed1\n",
    "        bed_loop = True\n",
    "    except:\n",
    "        print(\"Sorry, the value you entered is not recognized, try again please.\")\n",
    "\n",
    "# Bathrooms        \n",
    "bath_loop = False\n",
    "while bath_loop == False:\n",
    "    try:\n",
    "        bath1 = int(input(\"Enter number of bedrooms: \"))\n",
    "        bathrooms = bath1\n",
    "        bath_loop = True\n",
    "    except:\n",
    "        print(\"Sorry, the value you entered is not recognized, try again please.\")\n",
    "\n",
    "# New Construction\n",
    "construct_loop = False\n",
    "while construct_loop == False:\n",
    "    new_construction = input(\"Is it a new construction? \")\n",
    "    if new_construction.lower() == 'yes':\n",
    "        new_construction = str(1)\n",
    "        construct_loop = True\n",
    "    elif new_construction.lower() == 'no':\n",
    "        new_construction = str(0)\n",
    "        construct_loop = True\n",
    "    else:\n",
    "        print(\"Sorry I didn't understand\")\n",
    "\n",
    "# district\n",
    "district_list = [\"L'Olivereta\", \"Patraix\", \"Rascanya\", \"La Saïdia\",\n",
    "   \"Poblats Marítims\", \"Jesús\", \"Camins al Grau\", \"Benicalap\",\n",
    "   \"Quatre Carreres\", \"Algirós\", \"Pobles del Sud\", \"Pobles de l'Oest\",\n",
    "   \"Campanar\", \"Extramurs\", \"El Pla del Real\", \"L'Eixample\",\n",
    "   \"Benimaclet\", \"Ciutat Vella\", \"Pobles del Nord\", \"None\",\n",
    "   'Capital)']\n",
    "\n",
    "district_loop = False\n",
    "while district_loop == False:\n",
    "    print(district_list)\n",
    "    print()\n",
    "    print(\"Choose a district from the list above.\\n\")\n",
    "    district = input()    \n",
    "    district_loop = True\n",
    "# neighbourhood\n",
    "neighbourhood_list = [\"Soternes \", \"Sant Isidre \", \"Orriols \", \"Sant Antoni \",\n",
    "       \"El Cabanyal-El Canyamelar \", \"Torrefiel \", \"La Raiosa \",\n",
    "       \"La Creu del Grau \", \"Nou Moles \", \"Benicalap \", \"En Corts \",\n",
    "       \"Ciutat Jardí \", \"Tormos \", \"Sant Marcel·lí \", \"Albors \", \"Aiora \",\n",
    "       \"Fonteta de Sant Lluís \", \"El Perellonet \", \"Ciutat Fallera \",\n",
    "       \"La Malva-rosa \", \"Benimàmet \", \"Les Tendetes \", \"Malilla \",\n",
    "       \"El Forn d'Alcedo \", \"Arrancapins \", \"Ciutat Universitària \",\n",
    "       \"Favara \", \"Russafa \", \"Benimaclet \", \"La Punta \", \"Sant Llorenç \",\n",
    "       \"Beteró \", \"La Fontsanta \", \"La Petxina \",\n",
    "       \"El Castellar-L'Oliveral \", \"Na Rovella \", \"L'Hort de Senabre \",\n",
    "       \"Tres Forques \", \"Montolivet \", \"Campanar \", \"Patraix \",\n",
    "       \"Natzaret \", \"Beniferri \", \"La Xerea \", \"Faitanar \", \"La Torre \",\n",
    "       \"La Seu \", \"El Grau \", \"Gran Via \", \"El Botànic \", \"Marxalenes \",\n",
    "       \"Camí Real \", \"El Saler \", \"Benifaraig \", \"La Creu Coberta \",\n",
    "       \"Ciutat de les Arts i de les Ciències \", \"El Calvari \",\n",
    "       \"Sant Francesc \", \"L'Amistat \",\n",
    "       \"Vara de Quart \", \"El Carme \", \"Trinitat \", \"La Llum \",\n",
    "       \"Massarrojos \", \"Morvedre \", \"Sant Pau \", \"Mestalla \", \"Safranar \",\n",
    "       \"L'Illa Perduda \", \"Penya-roja \", \"Borbotó \", \"El Palmar \",\n",
    "       \"Camí de Vera \", \"Cases de Bàrcena \", \"La Roqueta \", \"El Mercat \",\n",
    "       \"Poble Nou \", \"El Pilar \", \"El Pla del Remei \", \"Carpesa \",\n",
    "       \"Mauella \", \"La Bega Baixa \", \"Exposició \", \"Pinedo \",\n",
    "       \"Camí Fondo \", \"La Carrasca \", \"L'Olivereta \", \"L'Eixample \",\n",
    "       \"Jaume Roig \"]\n",
    "\n",
    "print(neighbourhood_list)\n",
    "print()\n",
    "print(\"Choose a neighbourhood from the list above, if your neighbourhood is not in the list, we can't help you sorry.\\n\")\n",
    "neighbourhood = input().capitalize()\n",
    "\n",
    "\n",
    "# latitude and longitude\n",
    "\n",
    "app = Nominatim(user_agent=\"tutorial\")\n",
    "response = neighbourhood, district, 'Valencia, España'\n",
    "location = app.geocode(response).raw\n",
    "latitude = location['lat']\n",
    "longitude = location['lon']\n",
    "\n",
    "# Define dictionary and store variables\n",
    "for_model = {'sqft': [sqft],\n",
    "        'bedrooms': [bedrooms],\n",
    "        'bathrooms': [bathrooms],\n",
    "        'new_construction': [new_construction],\n",
    "        'district': [district],\n",
    "        'neighbourhood': [neighbourhood],\n",
    "        'latitude':[latitude],\n",
    "        'longitude': [longitude]\n",
    "        }\n",
    "\n",
    "# Transformed data from user into data for the model\n",
    "\n",
    "district_dummy = [elem for elem in list(data.columns) if elem.find(\"district\") != -1]\n",
    "neighbourhood_dummy = [elem for elem in list(data.columns) if elem.find('neighbourhood') != -1]\n",
    "new_construction_dummy = [elem for elem in list(data.columns) if elem.find('new_construction') != -1]\n",
    "\n",
    "new_obs = {'sqft': [sqft],\n",
    "            'bedrooms': [bedrooms],\n",
    "            'bathrooms': [bathrooms],\n",
    "            'latitude': [latitude],\n",
    "            'longitude': [longitude]\n",
    "          }\n",
    "\n",
    "for elem in district_dummy:\n",
    "    new_obs[elem] = [0]\n",
    "\n",
    "for elem in neighbourhood_dummy:\n",
    "    new_obs[elem] = [0]\n",
    "\n",
    "for elem in new_construction_dummy:\n",
    "    new_obs[elem] = [0]\n",
    "\n",
    "\n",
    "for key in new_obs.keys():\n",
    "    if (for_model['district'][0] in key):\n",
    "        new_obs[key] = [1]\n",
    "        break\n",
    "\n",
    "for key in new_obs.keys():\n",
    "    if (for_model['neighbourhood'][0] in key):\n",
    "        new_obs[key] = [1]\n",
    "        break  \n",
    "\n",
    "for key in new_obs.keys():\n",
    "    if (for_model['new_construction'][0] in key):\n",
    "        new_obs[key] = [1]\n",
    "        break\n",
    "\n",
    "\n",
    "user_X = pd.DataFrame(new_obs)\n",
    "infile = open(\"model\",'rb')\n",
    "model = pickle.load(infile)\n",
    "infile.close()\n",
    "\n",
    "price = model.predict([[user_X]])"
   ]
  },
  {
   "cell_type": "code",
   "execution_count": 8,
   "metadata": {},
   "outputs": [
    {
     "ename": "ValueError",
     "evalue": "Incorrect number of features. Got 112 features, expected 12.",
     "output_type": "error",
     "traceback": [
      "\u001b[1;31m---------------------------------------------------------------------------\u001b[0m",
      "\u001b[1;31mValueError\u001b[0m                                Traceback (most recent call last)",
      "\u001b[1;32m<ipython-input-8-f431bc36630e>\u001b[0m in \u001b[0;36m<module>\u001b[1;34m\u001b[0m\n\u001b[1;32m----> 1\u001b[1;33m \u001b[0mprice\u001b[0m \u001b[1;33m=\u001b[0m \u001b[0mmodel\u001b[0m\u001b[1;33m.\u001b[0m\u001b[0mpredict\u001b[0m\u001b[1;33m(\u001b[0m\u001b[0muser_X\u001b[0m\u001b[1;33m)\u001b[0m\u001b[1;33m\u001b[0m\u001b[1;33m\u001b[0m\u001b[0m\n\u001b[0m",
      "\u001b[1;32m~\\anaconda3\\lib\\site-packages\\sklearn\\cluster\\_kmeans.py\u001b[0m in \u001b[0;36mpredict\u001b[1;34m(self, X, sample_weight)\u001b[0m\n\u001b[0;32m   1199\u001b[0m         \u001b[0mcheck_is_fitted\u001b[0m\u001b[1;33m(\u001b[0m\u001b[0mself\u001b[0m\u001b[1;33m)\u001b[0m\u001b[1;33m\u001b[0m\u001b[1;33m\u001b[0m\u001b[0m\n\u001b[0;32m   1200\u001b[0m \u001b[1;33m\u001b[0m\u001b[0m\n\u001b[1;32m-> 1201\u001b[1;33m         \u001b[0mX\u001b[0m \u001b[1;33m=\u001b[0m \u001b[0mself\u001b[0m\u001b[1;33m.\u001b[0m\u001b[0m_check_test_data\u001b[0m\u001b[1;33m(\u001b[0m\u001b[0mX\u001b[0m\u001b[1;33m)\u001b[0m\u001b[1;33m\u001b[0m\u001b[1;33m\u001b[0m\u001b[0m\n\u001b[0m\u001b[0;32m   1202\u001b[0m         \u001b[0mx_squared_norms\u001b[0m \u001b[1;33m=\u001b[0m \u001b[0mrow_norms\u001b[0m\u001b[1;33m(\u001b[0m\u001b[0mX\u001b[0m\u001b[1;33m,\u001b[0m \u001b[0msquared\u001b[0m\u001b[1;33m=\u001b[0m\u001b[1;32mTrue\u001b[0m\u001b[1;33m)\u001b[0m\u001b[1;33m\u001b[0m\u001b[1;33m\u001b[0m\u001b[0m\n\u001b[0;32m   1203\u001b[0m \u001b[1;33m\u001b[0m\u001b[0m\n",
      "\u001b[1;32m~\\anaconda3\\lib\\site-packages\\sklearn\\cluster\\_kmeans.py\u001b[0m in \u001b[0;36m_check_test_data\u001b[1;34m(self, X)\u001b[0m\n\u001b[0;32m    996\u001b[0m         \u001b[0mexpected_n_features\u001b[0m \u001b[1;33m=\u001b[0m \u001b[0mself\u001b[0m\u001b[1;33m.\u001b[0m\u001b[0mcluster_centers_\u001b[0m\u001b[1;33m.\u001b[0m\u001b[0mshape\u001b[0m\u001b[1;33m[\u001b[0m\u001b[1;36m1\u001b[0m\u001b[1;33m]\u001b[0m\u001b[1;33m\u001b[0m\u001b[1;33m\u001b[0m\u001b[0m\n\u001b[0;32m    997\u001b[0m         \u001b[1;32mif\u001b[0m \u001b[1;32mnot\u001b[0m \u001b[0mn_features\u001b[0m \u001b[1;33m==\u001b[0m \u001b[0mexpected_n_features\u001b[0m\u001b[1;33m:\u001b[0m\u001b[1;33m\u001b[0m\u001b[1;33m\u001b[0m\u001b[0m\n\u001b[1;32m--> 998\u001b[1;33m             raise ValueError(\n\u001b[0m\u001b[0;32m    999\u001b[0m                 \u001b[1;34mf\"Incorrect number of features. Got {n_features} features, \"\u001b[0m\u001b[1;33m\u001b[0m\u001b[1;33m\u001b[0m\u001b[0m\n\u001b[0;32m   1000\u001b[0m                 f\"expected {expected_n_features}.\")\n",
      "\u001b[1;31mValueError\u001b[0m: Incorrect number of features. Got 112 features, expected 12."
     ]
    }
   ],
   "source": [
    "price = model.predict(user_X)"
   ]
  },
  {
   "cell_type": "code",
   "execution_count": null,
   "metadata": {},
   "outputs": [],
   "source": [
    "continous = da"
   ]
  },
  {
   "cell_type": "code",
   "execution_count": null,
   "metadata": {},
   "outputs": [],
   "source": [
    "for x in continous:\n",
    "    print(x)\n",
    "    sns.distplot(continous[x])\n",
    "    plt.show()"
   ]
  }
 ],
 "metadata": {
  "kernelspec": {
   "display_name": "Python 3",
   "language": "python",
   "name": "python3"
  },
  "language_info": {
   "codemirror_mode": {
    "name": "ipython",
    "version": 3
   },
   "file_extension": ".py",
   "mimetype": "text/x-python",
   "name": "python",
   "nbconvert_exporter": "python",
   "pygments_lexer": "ipython3",
   "version": "3.8.5"
  }
 },
 "nbformat": 4,
 "nbformat_minor": 4
}
