{
 "cells": [
  {
   "cell_type": "code",
   "execution_count": 27,
   "metadata": {},
   "outputs": [],
   "source": [
    "import pandas as pd\n",
    "from sklearn.preprocessing import StandardScaler\n",
    "from sklearn.cluster import KMeans\n",
    "from sklearn.metrics import silhouette_score\n",
    "import pickle"
   ]
  },
  {
   "cell_type": "code",
   "execution_count": 51,
   "metadata": {},
   "outputs": [],
   "source": [
    "spoti_data = pd.read_csv('./one_data.csv')\n",
    "almost_data = spoti_data.set_index('id')\n",
    "data = almost_data.reindex(columns= [\"danceability\", \"energy\", \"key\", \"loudness\", \"mode\", \"speechiness\", \"acousticness\",\n",
    "                                     \"instrumentalness\", \"liveness\", \"valence\", \"tempo\", \"duration_ms\"])"
   ]
  },
  {
   "cell_type": "code",
   "execution_count": 52,
   "metadata": {},
   "outputs": [
    {
     "data": {
      "text/plain": [
       "1    120369\n",
       "0     49511\n",
       "Name: mode, dtype: int64"
      ]
     },
     "execution_count": 52,
     "metadata": {},
     "output_type": "execute_result"
    }
   ],
   "source": [
    "data['mode'].value_counts()"
   ]
  },
  {
   "cell_type": "code",
   "execution_count": 53,
   "metadata": {},
   "outputs": [],
   "source": [
    "scaler = StandardScaler().fit(data)"
   ]
  },
  {
   "cell_type": "code",
   "execution_count": 54,
   "metadata": {},
   "outputs": [],
   "source": [
    "#### Pickle StandardScaler()"
   ]
  },
  {
   "cell_type": "code",
   "execution_count": 55,
   "metadata": {},
   "outputs": [],
   "source": [
    "file_name = \"scaling\"\n",
    "outfile = open(file_name,'wb')\n"
   ]
  },
  {
   "cell_type": "code",
   "execution_count": 56,
   "metadata": {},
   "outputs": [],
   "source": [
    "pickle.dump(scaler,outfile)\n",
    "outfile.close()"
   ]
  },
  {
   "cell_type": "code",
   "execution_count": 57,
   "metadata": {},
   "outputs": [],
   "source": [
    "# infile = open(\"scaling\",'rb')\n",
    "# scaler = pickle.load(infile)\n",
    "# infile.close()\n",
    "    "
   ]
  },
  {
   "cell_type": "code",
   "execution_count": 58,
   "metadata": {},
   "outputs": [],
   "source": [
    "to_model = scaler.transform(data)"
   ]
  },
  {
   "cell_type": "code",
   "execution_count": 59,
   "metadata": {},
   "outputs": [
    {
     "data": {
      "text/html": [
       "<div>\n",
       "<style scoped>\n",
       "    .dataframe tbody tr th:only-of-type {\n",
       "        vertical-align: middle;\n",
       "    }\n",
       "\n",
       "    .dataframe tbody tr th {\n",
       "        vertical-align: top;\n",
       "    }\n",
       "\n",
       "    .dataframe thead th {\n",
       "        text-align: right;\n",
       "    }\n",
       "</style>\n",
       "<table border=\"1\" class=\"dataframe\">\n",
       "  <thead>\n",
       "    <tr style=\"text-align: right;\">\n",
       "      <th></th>\n",
       "      <th>danceability</th>\n",
       "      <th>energy</th>\n",
       "      <th>key</th>\n",
       "      <th>loudness</th>\n",
       "      <th>mode</th>\n",
       "      <th>speechiness</th>\n",
       "      <th>acousticness</th>\n",
       "      <th>instrumentalness</th>\n",
       "      <th>liveness</th>\n",
       "      <th>valence</th>\n",
       "      <th>tempo</th>\n",
       "      <th>duration_ms</th>\n",
       "    </tr>\n",
       "  </thead>\n",
       "  <tbody>\n",
       "    <tr>\n",
       "      <th>0</th>\n",
       "      <td>0.968725</td>\n",
       "      <td>-1.097866</td>\n",
       "      <td>1.365311</td>\n",
       "      <td>-0.186506</td>\n",
       "      <td>0.641348</td>\n",
       "      <td>-0.289838</td>\n",
       "      <td>1.332185</td>\n",
       "      <td>1.296392</td>\n",
       "      <td>-0.315006</td>\n",
       "      <td>0.940855</td>\n",
       "      <td>0.049583</td>\n",
       "      <td>-0.599725</td>\n",
       "    </tr>\n",
       "    <tr>\n",
       "      <th>1</th>\n",
       "      <td>-0.907531</td>\n",
       "      <td>-1.776643</td>\n",
       "      <td>0.796366</td>\n",
       "      <td>-3.014579</td>\n",
       "      <td>0.641348</td>\n",
       "      <td>-0.319181</td>\n",
       "      <td>1.329530</td>\n",
       "      <td>2.389016</td>\n",
       "      <td>-0.737505</td>\n",
       "      <td>-1.735423</td>\n",
       "      <td>-1.073117</td>\n",
       "      <td>0.418033</td>\n",
       "    </tr>\n",
       "    <tr>\n",
       "      <th>2</th>\n",
       "      <td>1.202544</td>\n",
       "      <td>-1.004370</td>\n",
       "      <td>-0.057052</td>\n",
       "      <td>-1.509308</td>\n",
       "      <td>-1.559217</td>\n",
       "      <td>5.568226</td>\n",
       "      <td>0.294031</td>\n",
       "      <td>-0.523570</td>\n",
       "      <td>-0.495996</td>\n",
       "      <td>1.325739</td>\n",
       "      <td>-0.317913</td>\n",
       "      <td>-1.047658</td>\n",
       "    </tr>\n",
       "    <tr>\n",
       "      <th>3</th>\n",
       "      <td>1.385037</td>\n",
       "      <td>-1.340954</td>\n",
       "      <td>-1.194942</td>\n",
       "      <td>-0.593441</td>\n",
       "      <td>-1.559217</td>\n",
       "      <td>-0.009739</td>\n",
       "      <td>1.332185</td>\n",
       "      <td>2.343759</td>\n",
       "      <td>-0.541244</td>\n",
       "      <td>0.716022</td>\n",
       "      <td>-0.291031</td>\n",
       "      <td>-0.417479</td>\n",
       "    </tr>\n",
       "    <tr>\n",
       "      <th>4</th>\n",
       "      <td>-1.871322</td>\n",
       "      <td>-1.064208</td>\n",
       "      <td>1.649783</td>\n",
       "      <td>-0.963141</td>\n",
       "      <td>0.641348</td>\n",
       "      <td>-0.344524</td>\n",
       "      <td>1.318910</td>\n",
       "      <td>2.411644</td>\n",
       "      <td>-0.614771</td>\n",
       "      <td>-1.763622</td>\n",
       "      <td>-1.783343</td>\n",
       "      <td>3.760969</td>\n",
       "    </tr>\n",
       "    <tr>\n",
       "      <th>...</th>\n",
       "      <td>...</td>\n",
       "      <td>...</td>\n",
       "      <td>...</td>\n",
       "      <td>...</td>\n",
       "      <td>...</td>\n",
       "      <td>...</td>\n",
       "      <td>...</td>\n",
       "      <td>...</td>\n",
       "      <td>...</td>\n",
       "      <td>...</td>\n",
       "      <td>...</td>\n",
       "      <td>...</td>\n",
       "    </tr>\n",
       "    <tr>\n",
       "      <th>169875</th>\n",
       "      <td>1.921110</td>\n",
       "      <td>-0.170391</td>\n",
       "      <td>-1.194942</td>\n",
       "      <td>0.690010</td>\n",
       "      <td>0.641348</td>\n",
       "      <td>0.326379</td>\n",
       "      <td>-0.850329</td>\n",
       "      <td>-0.523465</td>\n",
       "      <td>-0.665109</td>\n",
       "      <td>-0.861622</td>\n",
       "      <td>-0.551097</td>\n",
       "      <td>-0.557262</td>\n",
       "    </tr>\n",
       "    <tr>\n",
       "      <th>169876</th>\n",
       "      <td>1.031457</td>\n",
       "      <td>-0.387300</td>\n",
       "      <td>0.796366</td>\n",
       "      <td>0.081902</td>\n",
       "      <td>0.641348</td>\n",
       "      <td>-0.358529</td>\n",
       "      <td>-1.265325</td>\n",
       "      <td>-0.422389</td>\n",
       "      <td>-0.541244</td>\n",
       "      <td>-0.998808</td>\n",
       "      <td>0.359769</td>\n",
       "      <td>-0.527031</td>\n",
       "    </tr>\n",
       "    <tr>\n",
       "      <th>169877</th>\n",
       "      <td>-0.137639</td>\n",
       "      <td>0.188632</td>\n",
       "      <td>0.511893</td>\n",
       "      <td>0.359838</td>\n",
       "      <td>0.641348</td>\n",
       "      <td>0.072957</td>\n",
       "      <td>0.118793</td>\n",
       "      <td>-0.516038</td>\n",
       "      <td>-0.558211</td>\n",
       "      <td>-1.444664</td>\n",
       "      <td>0.219826</td>\n",
       "      <td>-0.417973</td>\n",
       "    </tr>\n",
       "    <tr>\n",
       "      <th>169878</th>\n",
       "      <td>0.615145</td>\n",
       "      <td>1.018872</td>\n",
       "      <td>-1.194942</td>\n",
       "      <td>1.555408</td>\n",
       "      <td>0.641348</td>\n",
       "      <td>-0.370533</td>\n",
       "      <td>-1.120089</td>\n",
       "      <td>-0.523570</td>\n",
       "      <td>0.086566</td>\n",
       "      <td>-0.229040</td>\n",
       "      <td>0.422125</td>\n",
       "      <td>-0.528349</td>\n",
       "    </tr>\n",
       "    <tr>\n",
       "      <th>169879</th>\n",
       "      <td>-0.149045</td>\n",
       "      <td>-0.226488</td>\n",
       "      <td>-1.479415</td>\n",
       "      <td>0.703068</td>\n",
       "      <td>0.641348</td>\n",
       "      <td>-0.446560</td>\n",
       "      <td>-1.020257</td>\n",
       "      <td>-0.523570</td>\n",
       "      <td>-0.575179</td>\n",
       "      <td>-0.632978</td>\n",
       "      <td>-1.183248</td>\n",
       "      <td>-0.137030</td>\n",
       "    </tr>\n",
       "  </tbody>\n",
       "</table>\n",
       "<p>169880 rows × 12 columns</p>\n",
       "</div>"
      ],
      "text/plain": [
       "        danceability    energy       key  loudness      mode  speechiness  \\\n",
       "0           0.968725 -1.097866  1.365311 -0.186506  0.641348    -0.289838   \n",
       "1          -0.907531 -1.776643  0.796366 -3.014579  0.641348    -0.319181   \n",
       "2           1.202544 -1.004370 -0.057052 -1.509308 -1.559217     5.568226   \n",
       "3           1.385037 -1.340954 -1.194942 -0.593441 -1.559217    -0.009739   \n",
       "4          -1.871322 -1.064208  1.649783 -0.963141  0.641348    -0.344524   \n",
       "...              ...       ...       ...       ...       ...          ...   \n",
       "169875      1.921110 -0.170391 -1.194942  0.690010  0.641348     0.326379   \n",
       "169876      1.031457 -0.387300  0.796366  0.081902  0.641348    -0.358529   \n",
       "169877     -0.137639  0.188632  0.511893  0.359838  0.641348     0.072957   \n",
       "169878      0.615145  1.018872 -1.194942  1.555408  0.641348    -0.370533   \n",
       "169879     -0.149045 -0.226488 -1.479415  0.703068  0.641348    -0.446560   \n",
       "\n",
       "        acousticness  instrumentalness  liveness   valence     tempo  \\\n",
       "0           1.332185          1.296392 -0.315006  0.940855  0.049583   \n",
       "1           1.329530          2.389016 -0.737505 -1.735423 -1.073117   \n",
       "2           0.294031         -0.523570 -0.495996  1.325739 -0.317913   \n",
       "3           1.332185          2.343759 -0.541244  0.716022 -0.291031   \n",
       "4           1.318910          2.411644 -0.614771 -1.763622 -1.783343   \n",
       "...              ...               ...       ...       ...       ...   \n",
       "169875     -0.850329         -0.523465 -0.665109 -0.861622 -0.551097   \n",
       "169876     -1.265325         -0.422389 -0.541244 -0.998808  0.359769   \n",
       "169877      0.118793         -0.516038 -0.558211 -1.444664  0.219826   \n",
       "169878     -1.120089         -0.523570  0.086566 -0.229040  0.422125   \n",
       "169879     -1.020257         -0.523570 -0.575179 -0.632978 -1.183248   \n",
       "\n",
       "        duration_ms  \n",
       "0         -0.599725  \n",
       "1          0.418033  \n",
       "2         -1.047658  \n",
       "3         -0.417479  \n",
       "4          3.760969  \n",
       "...             ...  \n",
       "169875    -0.557262  \n",
       "169876    -0.527031  \n",
       "169877    -0.417973  \n",
       "169878    -0.528349  \n",
       "169879    -0.137030  \n",
       "\n",
       "[169880 rows x 12 columns]"
      ]
     },
     "execution_count": 59,
     "metadata": {},
     "output_type": "execute_result"
    }
   ],
   "source": [
    "pd.DataFrame(to_model, columns=data.columns)"
   ]
  },
  {
   "cell_type": "code",
   "execution_count": 49,
   "metadata": {},
   "outputs": [
    {
     "data": {
      "text/plain": [
       "KMeans(n_clusters=6, random_state=39)"
      ]
     },
     "execution_count": 49,
     "metadata": {},
     "output_type": "execute_result"
    }
   ],
   "source": [
    "#### Pickle model\n",
    "kmeans = KMeans(n_clusters=6, random_state=39)\n",
    "kmeans.fit(to_model)"
   ]
  },
  {
   "cell_type": "code",
   "execution_count": 60,
   "metadata": {},
   "outputs": [],
   "source": [
    "file_name = \"model\"\n",
    "outfile = open(file_name,'wb')"
   ]
  },
  {
   "cell_type": "code",
   "execution_count": 61,
   "metadata": {},
   "outputs": [],
   "source": [
    "pickle.dump(kmeans,outfile)\n",
    "outfile.close()"
   ]
  },
  {
   "cell_type": "code",
   "execution_count": 63,
   "metadata": {},
   "outputs": [
    {
     "data": {
      "text/plain": [
       "array([0, 2, 4, ..., 0, 3, 3])"
      ]
     },
     "execution_count": 63,
     "metadata": {},
     "output_type": "execute_result"
    }
   ],
   "source": [
    "kmeans.predict(to_model)"
   ]
  }
 ],
 "metadata": {
  "kernelspec": {
   "display_name": "Python 3",
   "language": "python",
   "name": "python3"
  },
  "language_info": {
   "codemirror_mode": {
    "name": "ipython",
    "version": 3
   },
   "file_extension": ".py",
   "mimetype": "text/x-python",
   "name": "python",
   "nbconvert_exporter": "python",
   "pygments_lexer": "ipython3",
   "version": "3.8.5"
  }
 },
 "nbformat": 4,
 "nbformat_minor": 4
}
