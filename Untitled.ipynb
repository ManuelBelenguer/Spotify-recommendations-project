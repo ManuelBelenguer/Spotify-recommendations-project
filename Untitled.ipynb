{
 "cells": [
  {
   "cell_type": "code",
   "execution_count": 2,
   "metadata": {},
   "outputs": [
    {
     "name": "stdout",
     "output_type": "stream",
     "text": [
      "Hi there! Let's see if I can recommend you some songs.\n",
      "\n",
      "Tell me a song you like!\n",
      "\n"
     ]
    },
    {
     "name": "stdin",
     "output_type": "stream",
     "text": [
      " goodbye yellow brick road\n"
     ]
    },
    {
     "name": "stdout",
     "output_type": "stream",
     "text": [
      "\n",
      "\n",
      "What's the artist?\n",
      "\n"
     ]
    },
    {
     "name": "stdin",
     "output_type": "stream",
     "text": [
      " elton jon\n"
     ]
    },
    {
     "name": "stdout",
     "output_type": "stream",
     "text": [
      "\n",
      "Sorry, we don't have goodbye yellow brick road by elton jon in our dataset \n",
      "\n",
      "Why don't you try with a different artist from this list? \n",
      "\n",
      "['Elton John', 'Yola', 'Taron Egerton', 'Sara Bareilles', 'Rockabye Baby!', 'Glenn Roth', 'Georg Erixon', 'Queens of the Stone Age', 'Wain L', 'Hunter Hayes', \"The O'Neill Brothers Group\", 'Emily Keener', 'Robin Spielberg', 'David Osborne', 'Keane', 'Doug Smith', 'Christopher Phillips', 'Alexa Cappelli', 'Mike Massé', 'Eduardo Braga', 'Música Instrumental de I’m In Records', 'The Shadows', 'Música Para Bebés Exigentes de I’m In Records', 'Emmerson Nogueira', 'Cory Asbury', 'Jewel', 'J2', 'Ray Conniff']\n"
     ]
    },
    {
     "name": "stdin",
     "output_type": "stream",
     "text": [
      " Elton John\n"
     ]
    },
    {
     "name": "stdout",
     "output_type": "stream",
     "text": [
      "Cool! See if you like:\n",
      "\n",
      " Goodbye  by  Spice Girls\n",
      "\n",
      "How do you find this recommendation? Good or bad?\n",
      "\n"
     ]
    },
    {
     "name": "stdin",
     "output_type": "stream",
     "text": [
      " good\n"
     ]
    },
    {
     "name": "stdout",
     "output_type": "stream",
     "text": [
      "\n",
      "Great! See you later!\n",
      "\n"
     ]
    }
   ],
   "source": [
    "from untitled import user_input_correction\n",
    "from untitled import if_not_hot\n",
    "from untitled import song_classify\n",
    "import pandas as pd\n",
    "import pickle\n",
    "from sklearn.preprocessing import StandardScaler\n",
    "from sklearn.cluster import KMeans\n",
    "from sklearn.metrics import silhouette_score\n",
    "\n",
    "hot_data = pd.read_csv('./hot_data.csv')\n",
    "not_hot_data = pd.read_csv('./to_work.csv')\n",
    "\n",
    "print(\"Hi there! Let's see if I can recommend you some songs.\")\n",
    "print()\n",
    "print(\"Tell me a song you like!\")\n",
    "print()\n",
    "song = input()\n",
    "\n",
    "user_input_correction(song)\n",
    "hot_list = list(hot_data['song'])\n",
    "\n",
    "if song in hot_list:\n",
    "    print(\"Cool! See if you like: \")\n",
    "    print()\n",
    "\n",
    "    hot_list.remove(song)\n",
    "    recommendation = hot_data.sample()\n",
    "    nada = True\n",
    "    while nada == True:\n",
    "        print(recommendation['title'].to_string(index=False) +'  by '+ recommendation['artist'].to_string(index=False))\n",
    "        print()\n",
    "        hot_list.append(song)\n",
    "        \n",
    "        print('How do you find this recommendation? Good or bad?\\n')\n",
    "        response = input().lower()\n",
    "        print()    \n",
    "        if response == 'good':\n",
    "            print(\"Great! See you later!\\n\")\n",
    "            nada = False\n",
    "        elif response == 'bad':\n",
    "            print(\"Sorry to hear that, see if you like this one then\\n\")\n",
    "        else:\n",
    "            print(\"Sorry I cannot understand. Try again later\\n\")\n",
    "            break\n",
    "        \n",
    "else:\n",
    "    song_classify(if_not_hot(song), not_hot_data)\n",
    "\n"
   ]
  }
 ],
 "metadata": {
  "kernelspec": {
   "display_name": "Python 3",
   "language": "python",
   "name": "python3"
  },
  "language_info": {
   "codemirror_mode": {
    "name": "ipython",
    "version": 3
   },
   "file_extension": ".py",
   "mimetype": "text/x-python",
   "name": "python",
   "nbconvert_exporter": "python",
   "pygments_lexer": "ipython3",
   "version": "3.8.5"
  }
 },
 "nbformat": 4,
 "nbformat_minor": 4
}
